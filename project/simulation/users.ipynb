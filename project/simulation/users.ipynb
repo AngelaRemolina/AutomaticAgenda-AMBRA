{
 "cells": [
  {
   "cell_type": "markdown",
   "metadata": {},
   "source": [
    "# Simulation\n",
    "The objective of this notebook is simulate kids for the model to learn about them and check results.\n",
    "\n",
    "## Situations\n",
    "1. Several users select their activities along the time\n",
    "2. A new activity is introduced to the possible activities\n"
   ]
  },
  {
   "cell_type": "markdown",
   "metadata": {},
   "source": [
    "## Situation 1"
   ]
  },
  {
   "cell_type": "code",
   "execution_count": 86,
   "metadata": {},
   "outputs": [],
   "source": [
    "# Let's declare the possible activities the users can do\n",
    "activities = {\n",
    "    1: {\n",
    "        'name': 'Football',\n",
    "        'category': 'sports'\n",
    "    },\n",
    "    2: {\n",
    "        'name': 'Basketball',\n",
    "        'category': 'sports'\n",
    "    },\n",
    "    3: {\n",
    "        'name': 'Swimming',\n",
    "        'category': 'sports'\n",
    "    },\n",
    "    4: {\n",
    "        'name': 'Reading',\n",
    "        'category': 'leisure'\n",
    "    },\n",
    "    5: {\n",
    "        'name': 'Watching TV',\n",
    "        'category': 'leisure'\n",
    "    },\n",
    "    6: {\n",
    "        'name': 'Playing video games',\n",
    "        'category': 'leisure'\n",
    "    },\n",
    "    7: {\n",
    "        'name': 'Meditation',\n",
    "        'category': 'leisure'\n",
    "    },\n",
    "    8: {\n",
    "        'name': 'Yoga',\n",
    "        'category': 'leisure'\n",
    "    },\n",
    "    9: {\n",
    "        'name': 'Cooking',\n",
    "        'category': 'cooking'\n",
    "    },\n",
    "    10: {\n",
    "        'name': 'Baking',\n",
    "        'category': 'cooking'\n",
    "    }\n",
    "}"
   ]
  },
  {
   "cell_type": "code",
   "execution_count": 87,
   "metadata": {},
   "outputs": [],
   "source": [
    "# Create 4 uses and ít's distribution over the activities\n",
    "\n",
    "# Assign 0.8 between all the sport activities\n",
    "user_sport_dist = {\n",
    "    1: 0.25,\n",
    "    2: 0.25,\n",
    "    3: 0.3,\n",
    "    4: 0.02,\n",
    "    5: 0.01,\n",
    "    6: 0.05,\n",
    "    7: 0.01,\n",
    "    8: 0.1,\n",
    "    9: 0.005,\n",
    "    10: 0.005\n",
    "}\n",
    "\n",
    "user_cooking_dist = {\n",
    "    1: 0.05,\n",
    "    2: 0.05,\n",
    "    3: 0.05,\n",
    "    4: 0.05,\n",
    "    5: 0.05,\n",
    "    6: 0.05,\n",
    "    7: 0.05,\n",
    "    8: 0.05,\n",
    "    9: 0.3,\n",
    "    10: 0.3\n",
    "}\n",
    "\n",
    "user_leisure_dist = {\n",
    "    1: 0.05,\n",
    "    2: 0.01,\n",
    "    3: 0.04,\n",
    "    4: 0.1,\n",
    "    5: 0.2,\n",
    "    6: 0.2,\n",
    "    7: 0.2,\n",
    "    8: 0.1,\n",
    "    9: 0.05,\n",
    "    10: 0.05\n",
    "}\n",
    "\n",
    "user_all_dist = {\n",
    "    1: 0.1,\n",
    "    2: 0.1,\n",
    "    3: 0.1,\n",
    "    4: 0.1,\n",
    "    5: 0.1,\n",
    "    6: 0.1,\n",
    "    7: 0.1,\n",
    "    8: 0.1,\n",
    "    9: 0.1,\n",
    "    10: 0.1\n",
    "}\n"
   ]
  },
  {
   "cell_type": "code",
   "execution_count": 88,
   "metadata": {},
   "outputs": [],
   "source": [
    "def check_distributions_valid(user):\n",
    "    if round(sum(user.values())) != 1:\n",
    "        raise ValueError(f'The sum of the values of the user distribution must be 1, but it is {sum(user.values())}')\n"
   ]
  },
  {
   "cell_type": "code",
   "execution_count": 89,
   "metadata": {},
   "outputs": [],
   "source": [
    "# Check if the distributions are valid\n",
    "check_distributions_valid(user_sport_dist)\n",
    "check_distributions_valid(user_cooking_dist)\n",
    "check_distributions_valid(user_leisure_dist)\n",
    "check_distributions_valid(user_all_dist)"
   ]
  },
  {
   "cell_type": "code",
   "execution_count": 90,
   "metadata": {},
   "outputs": [],
   "source": [
    "# make users\n",
    "user_sport = {\n",
    "    'username': 'user_sport',\n",
    "    'password': 'user_sport_password',\n",
    "    'distribution': user_sport_dist\n",
    "}\n",
    "\n",
    "user_leisure = {\n",
    "    'username': 'user_leisure',\n",
    "    'password': 'user_leisure_password',\n",
    "    'distribution': user_leisure_dist\n",
    "}\n",
    "\n",
    "user_cooking = {\n",
    "    'username': 'user_cooking',\n",
    "    'password': 'user_cooking_password',\n",
    "    'distribution': user_cooking_dist\n",
    "}\n",
    "\n",
    "user_all = {\n",
    "    'username': 'user_all',\n",
    "    'password': 'user_all_password',\n",
    "    'distribution': user_all_dist\n",
    "}"
   ]
  },
  {
   "cell_type": "code",
   "execution_count": 91,
   "metadata": {},
   "outputs": [],
   "source": [
    "import requests\n",
    "url_api = 'http://localhost:3000/api/'\n",
    "\n",
    "def get_token(user):\n",
    "    username = user['username']\n",
    "    password = user['password']\n",
    "    \n",
    "    r = requests.post(url_api + 'login', json={'username': username, 'password': password})\n",
    "    if r.status_code != 200:\n",
    "        raise ValueError(f'Error getting token for user {username}')\n",
    "    return r.json()['token']    "
   ]
  },
  {
   "cell_type": "code",
   "execution_count": null,
   "metadata": {},
   "outputs": [],
   "source": [
    "# Get tokens\n",
    "user_sport['token'] = get_token(user_sport)\n",
    "user_leisure['token'] = get_token(user_leisure)\n",
    "user_cooking['token'] = get_token(user_cooking)\n",
    "user_all['token'] = get_token(user_all)"
   ]
  },
  {
   "cell_type": "code",
   "execution_count": null,
   "metadata": {},
   "outputs": [],
   "source": [
    "# get activity following the distribution\n",
    "import random\n",
    "def get_activity(user):\n",
    "    return random.choices(list(user['distribution'].keys()), list(user['distribution'].values()))[0]\n"
   ]
  },
  {
   "cell_type": "code",
   "execution_count": null,
   "metadata": {},
   "outputs": [],
   "source": [
    "# make simulations of selecting an activity\n",
    "def make_simulation(user):\n",
    "    activity = get_activity(user)\n",
    "    r = requests.post(url_api + 'activities', json={'activity_id': activity}, headers = {'Authorization': 'Bearer ' + user['token']})\n",
    "    if r.status_code != 200:\n",
    "        raise ValueError(f'Error selecting activity for user {user[\"username\"]}')\n",
    "    return r.json()"
   ]
  },
  {
   "cell_type": "code",
   "execution_count": null,
   "metadata": {},
   "outputs": [],
   "source": [
    "# make 100 simulations per user\n",
    "simulations_sport = [make_simulation(user_sport) for _ in range(100)]\n",
    "simulations_leisure = [make_simulation(user_leisure) for _ in range(100)]\n",
    "simulations_cooking = [make_simulation(user_cooking) for _ in range(100)]\n",
    "simulations_all = [make_simulation(user_all) for _ in range(100)]"
   ]
  },
  {
   "cell_type": "code",
   "execution_count": null,
   "metadata": {},
   "outputs": [],
   "source": [
    "# Visualize the results\n",
    "# ... to be continued"
   ]
  }
 ],
 "metadata": {
  "kernelspec": {
   "display_name": "Python 3",
   "language": "python",
   "name": "python3"
  },
  "language_info": {
   "codemirror_mode": {
    "name": "ipython",
    "version": 3
   },
   "file_extension": ".py",
   "mimetype": "text/x-python",
   "name": "python",
   "nbconvert_exporter": "python",
   "pygments_lexer": "ipython3",
   "version": "3.11.9"
  }
 },
 "nbformat": 4,
 "nbformat_minor": 2
}
