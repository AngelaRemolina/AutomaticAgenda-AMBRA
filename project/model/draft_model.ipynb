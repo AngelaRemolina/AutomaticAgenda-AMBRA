{
  "nbformat": 4,
  "nbformat_minor": 0,
  "metadata": {
    "colab": {
      "provenance": [],
      "authorship_tag": "ABX9TyOAEoaEDKljbpgeCB/sTfXO"
    },
    "kernelspec": {
      "name": "python3",
      "display_name": "Python 3"
    },
    "language_info": {
      "name": "python"
    }
  },
  "cells": [
    {
      "cell_type": "code",
      "source": [
        "!pip install -q tensorflow-recommenders\n",
        "!pip install -q scann"
      ],
      "metadata": {
        "id": "JcxRFRLiZzOD"
      },
      "execution_count": 7,
      "outputs": []
    },
    {
      "cell_type": "code",
      "source": [
        "import os\n",
        "import pprint\n",
        "import tempfile\n",
        "\n",
        "from typing import Dict, Text\n",
        "\n",
        "import numpy as np\n",
        "import tensorflow as tf\n",
        "import tensorflow_datasets as tfds\n",
        "\n",
        "import tensorflow_recommenders as tfrs\n",
        "\n",
        "from sklearn.model_selection import train_test_split"
      ],
      "metadata": {
        "id": "3Ofi8beGZ0rQ"
      },
      "execution_count": 6,
      "outputs": []
    },
    {
      "cell_type": "code",
      "execution_count": 38,
      "metadata": {
        "id": "NhbMn8bowqzG"
      },
      "outputs": [],
      "source": [
        "# this is just a simulation, the real data must be obtain by a call to the database api\n",
        "# returns all the activities available in that slot!\n",
        "activities = [\n",
        "    {'id': 'A1', 'name': 'football', 'class': 'sports'},\n",
        "    {'id': 'A2', 'name': 'chess', 'class': 'boardgame'},\n",
        "    {'id': 'B1', 'name': 'jenga', 'class': 'boardgame'},\n",
        "    {'id': 'C1', 'name': 'salsa', 'class': 'dancing'}\n",
        "    # .... all activities\n",
        "]"
      ]
    },
    {
      "cell_type": "code",
      "source": [
        "unique_activity_names = set(activity['name'] for activity in activities)\n",
        "unique_activity_names = np.array(list(map(str.encode, unique_activity_names)))\n",
        "unique_activity_names"
      ],
      "metadata": {
        "colab": {
          "base_uri": "https://localhost:8080/"
        },
        "id": "vhefLVr_hWgj",
        "outputId": "e38843ab-be2f-48e4-a1ea-74f1d55bf26b"
      },
      "execution_count": 65,
      "outputs": [
        {
          "output_type": "execute_result",
          "data": {
            "text/plain": [
              "array([b'jenga', b'salsa', b'football', b'chess'], dtype='|S8')"
            ]
          },
          "metadata": {},
          "execution_count": 65
        }
      ]
    },
    {
      "cell_type": "markdown",
      "source": [
        "In our retrieval system the user acts as implicit feedback to the model since:\n",
        "\n",
        "*   Choosing the activity is a positive feedback\n",
        "*   Not choosing an activity is a negative feedback\n",
        "\n",
        "It is not explicit since they don't tell us **how much** they like the activity.\n"
      ],
      "metadata": {
        "id": "0YhE60DpYsWb"
      }
    },
    {
      "cell_type": "code",
      "source": [
        "# Implicit feedback: counter of the times the user has picked or not the activity\n",
        "# picked        +1\n",
        "# not picked    +0\n",
        "user_feedback = {\n",
        "    \"user1\":{'A1': 2, 'A2': 0, 'B1': 1,'C1': 0 }, # User 1 picked activity A1 twice (positive feedback). but has never picked activity A2 (negative feedback),...\n",
        "    \"user2\":{'A1': 1, 'A2': 0, 'B1': 0,'C1': 1 },\n",
        "    \"user3\":{'A1': 0, 'A2': 0, 'B1': 1,'C1': 0 },\n",
        "    # Todo: Append feedback when recieving\n",
        "}"
      ],
      "metadata": {
        "id": "APqM1lelipCQ"
      },
      "execution_count": 55,
      "outputs": []
    },
    {
      "cell_type": "code",
      "source": [
        "unique_user_ids = list(user_feedback.keys())\n",
        "# convert to bytes (tensorflow requires)\n",
        "unique_user_ids = np.array(list(map(str.encode, unique_user_ids)))\n",
        "unique_user_ids"
      ],
      "metadata": {
        "colab": {
          "base_uri": "https://localhost:8080/"
        },
        "id": "GYangL58t2nX",
        "outputId": "57b480c8-5b20-437d-9d66-cea999a0e800"
      },
      "execution_count": 59,
      "outputs": [
        {
          "output_type": "execute_result",
          "data": {
            "text/plain": [
              "array([b'user1', b'user2', b'user3'], dtype='|S5')"
            ]
          },
          "metadata": {},
          "execution_count": 59
        }
      ]
    },
    {
      "cell_type": "markdown",
      "source": [
        "# The model"
      ],
      "metadata": {
        "id": "EteYnrZMy0kA"
      }
    },
    {
      "cell_type": "code",
      "source": [
        "embedding_dimension = 32\n",
        "# Higher values will correspond to models that may be more accurate,\n",
        "# but will also be slower to fit and more prone to overfitting."
      ],
      "metadata": {
        "id": "onVxI-GqtTEL"
      },
      "execution_count": 62,
      "outputs": []
    },
    {
      "cell_type": "markdown",
      "source": [
        "## Query tower = user"
      ],
      "metadata": {
        "id": "4YvnAWyrtXXb"
      }
    },
    {
      "cell_type": "code",
      "source": [
        "user_model = tf.keras.Sequential([\n",
        "  tf.keras.layers.StringLookup(\n",
        "      vocabulary=unique_user_ids, mask_token=None),\n",
        "  # We add an additional embedding to account for unknown tokens.\n",
        "  tf.keras.layers.Embedding(len(unique_user_ids) + 1, embedding_dimension)\n",
        "])"
      ],
      "metadata": {
        "id": "-KmerGQztTA2"
      },
      "execution_count": 63,
      "outputs": []
    },
    {
      "cell_type": "markdown",
      "source": [
        "## Candidate tower = activity"
      ],
      "metadata": {
        "id": "FkdxKOgOti4h"
      }
    },
    {
      "cell_type": "code",
      "source": [
        "movie_model = tf.keras.Sequential([\n",
        "  tf.keras.layers.StringLookup(\n",
        "      vocabulary=unique_activity_names, mask_token=None),\n",
        "  tf.keras.layers.Embedding(len(unique_activity_names) + 1, embedding_dimension)\n",
        "])"
      ],
      "metadata": {
        "id": "7HHlxpP0tS9d"
      },
      "execution_count": 66,
      "outputs": []
    },
    {
      "cell_type": "code",
      "source": [],
      "metadata": {
        "id": "3vzmozmftS3B"
      },
      "execution_count": null,
      "outputs": []
    },
    {
      "cell_type": "code",
      "source": [],
      "metadata": {
        "id": "7n25QjjptSzW"
      },
      "execution_count": null,
      "outputs": []
    },
    {
      "cell_type": "code",
      "source": [],
      "metadata": {
        "id": "FhA3JTm8tSv_"
      },
      "execution_count": null,
      "outputs": []
    },
    {
      "cell_type": "code",
      "source": [],
      "metadata": {
        "id": "UEV6vQ-ItM_Z"
      },
      "execution_count": null,
      "outputs": []
    },
    {
      "cell_type": "code",
      "source": [
        "def recommend_activities(user_id, model, activities):\n",
        "    user_vector = np.array([1 if activity['id'] in [activity_id for activity_id, _ in user_feedback_dict[user_id]] else 0 for activity in activities], dtype=np.float32)\n",
        "\n",
        "    # Predecir el feedback implícito para actividades no realizadas por el usuario\n",
        "    predictions = model.predict(user_vector.reshape(1, -1)).flatten()\n",
        "\n",
        "    # Ordenar actividades por las predicciones (mayor probabilidad de feedback positivo primero)\n",
        "    sorted_indices = np.argsort(predictions)[::-1][:5]\n",
        "    recommended_activities = [activities[i]['name'] for i in sorted_indices]\n",
        "\n",
        "    return recommended_activities\n",
        "\n"
      ],
      "metadata": {
        "id": "E6GO-Pf5oYaH"
      },
      "execution_count": null,
      "outputs": []
    }
  ]
}