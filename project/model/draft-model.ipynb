{
  "nbformat": 4,
  "nbformat_minor": 0,
  "metadata": {
    "colab": {
      "provenance": [],
      "authorship_tag": "ABX9TyPRMWpm8ZXEsoAjEck3xqVh"
    },
    "kernelspec": {
      "name": "python3",
      "display_name": "Python 3"
    },
    "language_info": {
      "name": "python"
    }
  },
  "cells": [
    {
      "cell_type": "code",
      "source": [
        "!pip install -q tensorflow-recommenders\n",
        "!pip install -q scann"
      ],
      "metadata": {
        "id": "JcxRFRLiZzOD"
      },
      "execution_count": 7,
      "outputs": []
    },
    {
      "cell_type": "code",
      "source": [
        "import os\n",
        "import pprint\n",
        "import tempfile\n",
        "\n",
        "from typing import Dict, Text\n",
        "\n",
        "import numpy as np\n",
        "import tensorflow as tf\n",
        "import tensorflow_datasets as tfds\n",
        "\n",
        "import tensorflow_recommenders as tfrs\n",
        "\n",
        "from sklearn.model_selection import train_test_split"
      ],
      "metadata": {
        "id": "3Ofi8beGZ0rQ"
      },
      "execution_count": 6,
      "outputs": []
    },
    {
      "cell_type": "code",
      "execution_count": 21,
      "metadata": {
        "id": "NhbMn8bowqzG"
      },
      "outputs": [],
      "source": [
        "# this is just a simulation, the real data must be obtain by a call to the database api\n",
        "# returns all the activities available in that slot!\n",
        "activities = [\n",
        "    {'id': 'A1', 'name': 'football', 'class': 'sports'},\n",
        "    {'id': 'A2', 'name': 'chess', 'class': 'boardgame'},\n",
        "    {'id': 'B1', 'name': 'jenga', 'class': 'boardgame'},\n",
        "    {'id': 'C1', 'name': 'salsa', 'class': 'dancing'}\n",
        "    # .... all activities\n",
        "]"
      ]
    },
    {
      "cell_type": "code",
      "source": [
        "# todo: see if its ok to do this computation here or should it be another request to db\n",
        "unique_classes = set(activity['class'] for activity in activities)\n",
        "unique_classes"
      ],
      "metadata": {
        "colab": {
          "base_uri": "https://localhost:8080/"
        },
        "id": "vhefLVr_hWgj",
        "outputId": "4445690f-a467-4b1d-ab64-1f6e5a7ec7d3"
      },
      "execution_count": 22,
      "outputs": [
        {
          "output_type": "execute_result",
          "data": {
            "text/plain": [
              "{'boardgame', 'dancing', 'sports'}"
            ]
          },
          "metadata": {},
          "execution_count": 22
        }
      ]
    },
    {
      "cell_type": "markdown",
      "source": [
        "In our retrieval system the user acts as implicit feedback to the model since:\n",
        "\n",
        "*   Choosing the activity is a positive feedback\n",
        "*   Not choosing an activity is a negative feedback\n",
        "\n",
        "It is not explicit since they don't tell us **how much** they like the activity.\n"
      ],
      "metadata": {
        "id": "0YhE60DpYsWb"
      }
    },
    {
      "cell_type": "code",
      "source": [
        "# Implicit feedback: counter of the times the user has picked or not the activity\n",
        "# picked        +1\n",
        "# not picked    +0\n",
        "user_feedback = {\n",
        "    1:{'A1': 2, 'A2': 0, 'B1': 1,'C1': 0 }, # User 1 picked activity A1 twice (positive feedback). but has never picked activity A2 (negative feedback),...\n",
        "    2:{'A1': 1, 'A2': 0, 'B1': 0,'C1': 1 },\n",
        "    3:{'A1': 0, 'A2': 0, 'B1': 1,'C1': 0 },\n",
        "    # Todo: Append feedback when recieving\n",
        "}"
      ],
      "metadata": {
        "id": "APqM1lelipCQ"
      },
      "execution_count": 31,
      "outputs": []
    },
    {
      "cell_type": "code",
      "source": [
        "# Create X and y for each user\n",
        "X_list = []\n",
        "y_list = []\n",
        "for user_id in user_feedback:\n",
        "    user_activities = user_feedback[user_id]\n",
        "    user_vector = np.array([1 if activity['id'] in [activity_id for activity_id, _ in user_activities] else 0 for activity in activities], dtype=np.float32)\n",
        "    feedback_vector = np.array([feedback for _, feedback in user_activities], dtype=np.float32)\n",
        "\n",
        "    X_list.append(user_vector)\n",
        "    y_list.append(feedback_vector)\n",
        "\n",
        "X = np.array(X_list)\n",
        "y = np.array(y_list)"
      ],
      "metadata": {
        "id": "rbtIZvdYoTp7"
      },
      "execution_count": 32,
      "outputs": []
    },
    {
      "cell_type": "code",
      "source": [
        "X"
      ],
      "metadata": {
        "colab": {
          "base_uri": "https://localhost:8080/"
        },
        "id": "6Se7mCOYqZ_H",
        "outputId": "84dd3047-f8ba-430c-acff-82619a806ec3"
      },
      "execution_count": 36,
      "outputs": [
        {
          "output_type": "execute_result",
          "data": {
            "text/plain": [
              "array([[0., 0., 0., 0.],\n",
              "       [0., 0., 0., 0.],\n",
              "       [0., 0., 0., 0.]], dtype=float32)"
            ]
          },
          "metadata": {},
          "execution_count": 36
        }
      ]
    },
    {
      "cell_type": "code",
      "source": [
        "y"
      ],
      "metadata": {
        "colab": {
          "base_uri": "https://localhost:8080/"
        },
        "id": "MUfLROX-qd5U",
        "outputId": "6d377864-1355-4957-e988-d873fad96d99"
      },
      "execution_count": 37,
      "outputs": [
        {
          "output_type": "execute_result",
          "data": {
            "text/plain": [
              "array([[1., 2., 1., 1.],\n",
              "       [1., 2., 1., 1.],\n",
              "       [1., 2., 1., 1.]], dtype=float32)"
            ]
          },
          "metadata": {},
          "execution_count": 37
        }
      ]
    },
    {
      "cell_type": "markdown",
      "source": [
        "## Define and compile model"
      ],
      "metadata": {
        "id": "ykoAmilrpAaj"
      }
    },
    {
      "cell_type": "code",
      "source": [
        "model = tf.keras.Sequential([\n",
        "    tf.keras.layers.Dense(32, activation='relu', input_shape=(X.shape[1],)),\n",
        "    tf.keras.layers.Dense(16, activation='relu'),\n",
        "    tf.keras.layers.Dense(1, activation='sigmoid')\n",
        "])\n",
        "model.compile(optimizer='adam', loss='binary_crossentropy', metrics=['accuracy'])"
      ],
      "metadata": {
        "id": "21iRdqMmoTiE"
      },
      "execution_count": 34,
      "outputs": []
    },
    {
      "cell_type": "code",
      "source": [
        "# train the model for each user\n",
        "for i in range(len(X)):\n",
        "    model.fit(X[i], y[i], epochs=50, batch_size=1, verbose=1)"
      ],
      "metadata": {
        "colab": {
          "base_uri": "https://localhost:8080/",
          "height": 460
        },
        "id": "yj-1mC1_qH_z",
        "outputId": "a565329a-7620-46d7-ac73-d95efed57826"
      },
      "execution_count": 35,
      "outputs": [
        {
          "output_type": "stream",
          "name": "stdout",
          "text": [
            "Epoch 1/50\n"
          ]
        },
        {
          "output_type": "error",
          "ename": "ValueError",
          "evalue": "Exception encountered when calling Sequential.call().\n\n\u001b[1mInvalid input shape for input Tensor(\"data:0\", shape=(1,), dtype=float32). Expected shape (None, 4), but input has incompatible shape (1,)\u001b[0m\n\nArguments received by Sequential.call():\n  • inputs=tf.Tensor(shape=(1,), dtype=float32)\n  • training=True\n  • mask=None",
          "traceback": [
            "\u001b[0;31m---------------------------------------------------------------------------\u001b[0m",
            "\u001b[0;31mValueError\u001b[0m                                Traceback (most recent call last)",
            "\u001b[0;32m<ipython-input-35-e8880086d0af>\u001b[0m in \u001b[0;36m<cell line: 2>\u001b[0;34m()\u001b[0m\n\u001b[1;32m      1\u001b[0m \u001b[0;31m# train the model for each user\u001b[0m\u001b[0;34m\u001b[0m\u001b[0;34m\u001b[0m\u001b[0m\n\u001b[1;32m      2\u001b[0m \u001b[0;32mfor\u001b[0m \u001b[0mi\u001b[0m \u001b[0;32min\u001b[0m \u001b[0mrange\u001b[0m\u001b[0;34m(\u001b[0m\u001b[0mlen\u001b[0m\u001b[0;34m(\u001b[0m\u001b[0mX\u001b[0m\u001b[0;34m)\u001b[0m\u001b[0;34m)\u001b[0m\u001b[0;34m:\u001b[0m\u001b[0;34m\u001b[0m\u001b[0;34m\u001b[0m\u001b[0m\n\u001b[0;32m----> 3\u001b[0;31m     \u001b[0mmodel\u001b[0m\u001b[0;34m.\u001b[0m\u001b[0mfit\u001b[0m\u001b[0;34m(\u001b[0m\u001b[0mX\u001b[0m\u001b[0;34m[\u001b[0m\u001b[0mi\u001b[0m\u001b[0;34m]\u001b[0m\u001b[0;34m,\u001b[0m \u001b[0my\u001b[0m\u001b[0;34m[\u001b[0m\u001b[0mi\u001b[0m\u001b[0;34m]\u001b[0m\u001b[0;34m,\u001b[0m \u001b[0mepochs\u001b[0m\u001b[0;34m=\u001b[0m\u001b[0;36m50\u001b[0m\u001b[0;34m,\u001b[0m \u001b[0mbatch_size\u001b[0m\u001b[0;34m=\u001b[0m\u001b[0;36m1\u001b[0m\u001b[0;34m,\u001b[0m \u001b[0mverbose\u001b[0m\u001b[0;34m=\u001b[0m\u001b[0;36m1\u001b[0m\u001b[0;34m)\u001b[0m\u001b[0;34m\u001b[0m\u001b[0;34m\u001b[0m\u001b[0m\n\u001b[0m",
            "\u001b[0;32m/usr/local/lib/python3.10/dist-packages/keras/src/utils/traceback_utils.py\u001b[0m in \u001b[0;36merror_handler\u001b[0;34m(*args, **kwargs)\u001b[0m\n\u001b[1;32m    120\u001b[0m             \u001b[0;31m# To get the full stack trace, call:\u001b[0m\u001b[0;34m\u001b[0m\u001b[0;34m\u001b[0m\u001b[0m\n\u001b[1;32m    121\u001b[0m             \u001b[0;31m# `keras.config.disable_traceback_filtering()`\u001b[0m\u001b[0;34m\u001b[0m\u001b[0;34m\u001b[0m\u001b[0m\n\u001b[0;32m--> 122\u001b[0;31m             \u001b[0;32mraise\u001b[0m \u001b[0me\u001b[0m\u001b[0;34m.\u001b[0m\u001b[0mwith_traceback\u001b[0m\u001b[0;34m(\u001b[0m\u001b[0mfiltered_tb\u001b[0m\u001b[0;34m)\u001b[0m \u001b[0;32mfrom\u001b[0m \u001b[0;32mNone\u001b[0m\u001b[0;34m\u001b[0m\u001b[0;34m\u001b[0m\u001b[0m\n\u001b[0m\u001b[1;32m    123\u001b[0m         \u001b[0;32mfinally\u001b[0m\u001b[0;34m:\u001b[0m\u001b[0;34m\u001b[0m\u001b[0;34m\u001b[0m\u001b[0m\n\u001b[1;32m    124\u001b[0m             \u001b[0;32mdel\u001b[0m \u001b[0mfiltered_tb\u001b[0m\u001b[0;34m\u001b[0m\u001b[0;34m\u001b[0m\u001b[0m\n",
            "\u001b[0;32m/usr/local/lib/python3.10/dist-packages/keras/src/models/functional.py\u001b[0m in \u001b[0;36m_adjust_input_rank\u001b[0;34m(self, flat_inputs)\u001b[0m\n\u001b[1;32m    283\u001b[0m                     \u001b[0madjusted\u001b[0m\u001b[0;34m.\u001b[0m\u001b[0mappend\u001b[0m\u001b[0;34m(\u001b[0m\u001b[0mops\u001b[0m\u001b[0;34m.\u001b[0m\u001b[0mexpand_dims\u001b[0m\u001b[0;34m(\u001b[0m\u001b[0mx\u001b[0m\u001b[0;34m,\u001b[0m \u001b[0maxis\u001b[0m\u001b[0;34m=\u001b[0m\u001b[0;34m-\u001b[0m\u001b[0;36m1\u001b[0m\u001b[0;34m)\u001b[0m\u001b[0;34m)\u001b[0m\u001b[0;34m\u001b[0m\u001b[0;34m\u001b[0m\u001b[0m\n\u001b[1;32m    284\u001b[0m                     \u001b[0;32mcontinue\u001b[0m\u001b[0;34m\u001b[0m\u001b[0;34m\u001b[0m\u001b[0m\n\u001b[0;32m--> 285\u001b[0;31m             raise ValueError(\n\u001b[0m\u001b[1;32m    286\u001b[0m                 \u001b[0;34mf\"Invalid input shape for input {x}. Expected shape \"\u001b[0m\u001b[0;34m\u001b[0m\u001b[0;34m\u001b[0m\u001b[0m\n\u001b[1;32m    287\u001b[0m                 \u001b[0;34mf\"{ref_shape}, but input has incompatible shape {x.shape}\"\u001b[0m\u001b[0;34m\u001b[0m\u001b[0;34m\u001b[0m\u001b[0m\n",
            "\u001b[0;31mValueError\u001b[0m: Exception encountered when calling Sequential.call().\n\n\u001b[1mInvalid input shape for input Tensor(\"data:0\", shape=(1,), dtype=float32). Expected shape (None, 4), but input has incompatible shape (1,)\u001b[0m\n\nArguments received by Sequential.call():\n  • inputs=tf.Tensor(shape=(1,), dtype=float32)\n  • training=True\n  • mask=None"
          ]
        }
      ]
    },
    {
      "cell_type": "code",
      "source": [
        "def recommend_activities(user_id, model, activities):\n",
        "    user_vector = np.array([1 if activity['id'] in [activity_id for activity_id, _ in user_feedback_dict[user_id]] else 0 for activity in activities], dtype=np.float32)\n",
        "\n",
        "    # Predecir el feedback implícito para actividades no realizadas por el usuario\n",
        "    predictions = model.predict(user_vector.reshape(1, -1)).flatten()\n",
        "\n",
        "    # Ordenar actividades por las predicciones (mayor probabilidad de feedback positivo primero)\n",
        "    sorted_indices = np.argsort(predictions)[::-1][:5]\n",
        "    recommended_activities = [activities[i]['name'] for i in sorted_indices]\n",
        "\n",
        "    return recommended_activities\n",
        "\n"
      ],
      "metadata": {
        "id": "E6GO-Pf5oYaH"
      },
      "execution_count": null,
      "outputs": []
    },
    {
      "cell_type": "code",
      "source": [
        "# Generar recomendaciones para un usuario específico (por ejemplo, usuario ID 1)\n",
        "user_id = 1\n",
        "recommended_activities = recommend_activities(user_id, model, activities)\n",
        "\n",
        "print(f\"Recomendaciones para Usuario {user_id}:\")\n",
        "for activity in recommended_activities:\n",
        "    print(activity)"
      ],
      "metadata": {
        "id": "GeVBTp3coTWL"
      },
      "execution_count": null,
      "outputs": []
    },
    {
      "cell_type": "code",
      "source": [],
      "metadata": {
        "id": "yftydRTNpujG"
      },
      "execution_count": null,
      "outputs": []
    },
    {
      "cell_type": "code",
      "source": [],
      "metadata": {
        "id": "EMNqECXwpugS"
      },
      "execution_count": null,
      "outputs": []
    },
    {
      "cell_type": "code",
      "source": [],
      "metadata": {
        "id": "h_8pwl5epucf"
      },
      "execution_count": null,
      "outputs": []
    },
    {
      "cell_type": "code",
      "source": [],
      "metadata": {
        "id": "YKKjuLlUpuYB"
      },
      "execution_count": null,
      "outputs": []
    },
    {
      "cell_type": "code",
      "source": [],
      "metadata": {
        "id": "kt_XhAtdpuUq"
      },
      "execution_count": null,
      "outputs": []
    },
    {
      "cell_type": "markdown",
      "source": [
        "Wait"
      ],
      "metadata": {
        "id": "-I9NHy2YoUhr"
      }
    },
    {
      "cell_type": "code",
      "source": [
        "# Represent activities as a one-hot encoding vectors\n",
        "def activity_vector(activity):\n",
        "    vec_act = []\n",
        "    for class_i in unique_classes:\n",
        "        vec_act.append(1 if activity['class'] == class_i else 0)\n",
        "    return vec_act\n",
        "\n",
        "# Create matrices X (activity features) and y (user preferences)\n",
        "X = np.array([activity_vector(activity) for activity in activities], dtype=np.float32)\n",
        "y = np.array([feedback[2] for feedback in user_feedback], dtype=np.float32)"
      ],
      "metadata": {
        "id": "ZT22xgiKXwik"
      },
      "execution_count": 27,
      "outputs": []
    },
    {
      "cell_type": "code",
      "source": [
        "X"
      ],
      "metadata": {
        "colab": {
          "base_uri": "https://localhost:8080/"
        },
        "id": "YSkOihHEgg0E",
        "outputId": "1662430b-08bd-41f8-c111-c7053657515f"
      },
      "execution_count": 20,
      "outputs": [
        {
          "output_type": "execute_result",
          "data": {
            "text/plain": [
              "array([[0., 0., 1.],\n",
              "       [0., 1., 0.],\n",
              "       [0., 1., 0.],\n",
              "       [1., 0., 0.]], dtype=float32)"
            ]
          },
          "metadata": {},
          "execution_count": 20
        }
      ]
    },
    {
      "cell_type": "code",
      "source": [
        "y"
      ],
      "metadata": {
        "colab": {
          "base_uri": "https://localhost:8080/"
        },
        "id": "cBytq3ikgo5Y",
        "outputId": "eb79a060-6851-4806-d6c2-338e887f6816"
      },
      "execution_count": 26,
      "outputs": [
        {
          "output_type": "execute_result",
          "data": {
            "text/plain": [
              "array([1., 0., 1., 0., 0., 1., 0., 1., 1., 1., 0., 0.], dtype=float32)"
            ]
          },
          "metadata": {},
          "execution_count": 26
        }
      ]
    },
    {
      "cell_type": "code",
      "source": [],
      "metadata": {
        "id": "4a6DQSxTkiWz"
      },
      "execution_count": null,
      "outputs": []
    }
  ]
}